version https://git-lfs.github.com/spec/v1
oid sha256:5b57827bcdee5ab2d29b5760715467c329bd58bd90cf8d23386bcfe475a80c09
size 538924
